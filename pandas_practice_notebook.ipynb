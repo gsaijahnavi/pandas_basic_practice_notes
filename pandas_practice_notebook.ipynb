{
  "nbformat": 4,
  "nbformat_minor": 0,
  "metadata": {
    "colab": {
      "provenance": [],
      "authorship_tag": "ABX9TyPR9yB4uc61tvhBGpTZmN0Y",
      "include_colab_link": true
    },
    "kernelspec": {
      "name": "python3",
      "display_name": "Python 3"
    },
    "language_info": {
      "name": "python"
    }
  },
  "cells": [
    {
      "cell_type": "markdown",
      "metadata": {
        "id": "view-in-github",
        "colab_type": "text"
      },
      "source": [
        "<a href=\"https://colab.research.google.com/github/gsaijahnavi/pandas_basic_practice_notes/blob/main/pandas_practice_notebook.ipynb\" target=\"_parent\"><img src=\"https://colab.research.google.com/assets/colab-badge.svg\" alt=\"Open In Colab\"/></a>"
      ]
    },
    {
      "cell_type": "code",
      "execution_count": 4,
      "metadata": {
        "colab": {
          "base_uri": "https://localhost:8080/"
        },
        "id": "3Mh3_W7-7OaV",
        "outputId": "a8faabf9-e6ef-4b7d-f03a-00c23b398a01"
      },
      "outputs": [
        {
          "output_type": "stream",
          "name": "stdout",
          "text": [
            "Requirement already satisfied: pandas in /usr/local/lib/python3.12/dist-packages (2.2.2)\n",
            "Requirement already satisfied: numpy>=1.26.0 in /usr/local/lib/python3.12/dist-packages (from pandas) (2.0.2)\n",
            "Requirement already satisfied: python-dateutil>=2.8.2 in /usr/local/lib/python3.12/dist-packages (from pandas) (2.9.0.post0)\n",
            "Requirement already satisfied: pytz>=2020.1 in /usr/local/lib/python3.12/dist-packages (from pandas) (2025.2)\n",
            "Requirement already satisfied: tzdata>=2022.7 in /usr/local/lib/python3.12/dist-packages (from pandas) (2025.2)\n",
            "Requirement already satisfied: six>=1.5 in /usr/local/lib/python3.12/dist-packages (from python-dateutil>=2.8.2->pandas) (1.17.0)\n"
          ]
        }
      ],
      "source": [
        "!pip install pandas\n"
      ]
    },
    {
      "cell_type": "code",
      "source": [
        "import pandas as pd"
      ],
      "metadata": {
        "id": "45Z2I43OAW9c"
      },
      "execution_count": 5,
      "outputs": []
    },
    {
      "cell_type": "code",
      "source": [
        "print(pd.__version__)"
      ],
      "metadata": {
        "colab": {
          "base_uri": "https://localhost:8080/"
        },
        "id": "j1B5cBlTA9cc",
        "outputId": "c1637862-f70a-4dc0-f158-c3ec2fdfc2f5"
      },
      "execution_count": 14,
      "outputs": [
        {
          "output_type": "stream",
          "name": "stdout",
          "text": [
            "2.2.2\n"
          ]
        }
      ]
    },
    {
      "cell_type": "code",
      "source": [
        "df = pd.read_csv('data.csv')"
      ],
      "metadata": {
        "id": "AkB9wSsZ8c3k"
      },
      "execution_count": 33,
      "outputs": []
    },
    {
      "cell_type": "code",
      "source": [
        "mydata = {\n",
        "    'cars': ['BMW', 'Volvo', 'Ford'],\n",
        "    'passings': [3, 7, 2]\n",
        "}\n",
        "\n",
        "print(pd.DataFrame(mydata))"
      ],
      "metadata": {
        "colab": {
          "base_uri": "https://localhost:8080/"
        },
        "id": "l_j7TAQRAoap",
        "outputId": "baa5b424-2c90-4f82-ad0f-35efc9fb5feb"
      },
      "execution_count": 16,
      "outputs": [
        {
          "output_type": "stream",
          "name": "stdout",
          "text": [
            "    cars  passings\n",
            "0    BMW         3\n",
            "1  Volvo         7\n",
            "2   Ford         2\n"
          ]
        }
      ]
    },
    {
      "cell_type": "code",
      "source": [
        "a = [1,2,3]\n",
        "\n",
        "print(pd.Series(a))\n",
        "\n",
        "print(a[0])\n",
        "\n",
        "## different index\n",
        "a1 = pd.Series(a, index = ['x', 'y', 'z'])\n",
        "\n",
        "print(a1[\"y\"])"
      ],
      "metadata": {
        "colab": {
          "base_uri": "https://localhost:8080/"
        },
        "id": "EAl2KMvVBgQ9",
        "outputId": "ed731b9b-c065-45c9-c5c3-bd4c4b6e60cc"
      },
      "execution_count": 23,
      "outputs": [
        {
          "output_type": "stream",
          "name": "stdout",
          "text": [
            "0    1\n",
            "1    2\n",
            "2    3\n",
            "dtype: int64\n",
            "1\n",
            "2\n"
          ]
        }
      ]
    },
    {
      "cell_type": "code",
      "source": [
        "## You can use key value objects like dictionary while creating series\n",
        "\n",
        "calories = {\n",
        "    'day1': 420,\n",
        "    'day2': 380,\n",
        "    'day3': 390\n",
        "}\n",
        "\n",
        "df = pd.Series(calories)\n",
        "\n",
        "df1 = pd.Series(calories, index = [\"day1\",\"day2\"]) ## only displayes values of indexes specified\n",
        "\n",
        "print(df[\"day3\"])\n",
        "\n"
      ],
      "metadata": {
        "colab": {
          "base_uri": "https://localhost:8080/"
        },
        "id": "l6PSSPquAh8m",
        "outputId": "186a10e7-cb54-4fb2-85d9-f03e9a78d89a"
      },
      "execution_count": 29,
      "outputs": [
        {
          "output_type": "stream",
          "name": "stdout",
          "text": [
            "390\n",
            "day1    420\n",
            "day2    380\n",
            "dtype: int64\n"
          ]
        }
      ]
    },
    {
      "cell_type": "code",
      "source": [
        "## locate the row\n",
        "df = pd.read_csv('data.csv')\n",
        "\n",
        "print(df.head())\n"
      ],
      "metadata": {
        "colab": {
          "base_uri": "https://localhost:8080/"
        },
        "id": "P3ff6xmmIJPK",
        "outputId": "95daee0b-2985-4d75-8112-5256362f09d8"
      },
      "execution_count": 38,
      "outputs": [
        {
          "output_type": "stream",
          "name": "stdout",
          "text": [
            "          Car       Model  Volume  Weight  CO2\n",
            "0      Toyoty        Aygo    1000     790   99\n",
            "1  Mitsubishi  Space Star    1200    1160   95\n",
            "2       Skoda      Citigo    1000     929   95\n",
            "3        Fiat         500     900     865   90\n",
            "4        Mini      Cooper    1500    1140  105\n"
          ]
        }
      ]
    },
    {
      "cell_type": "code",
      "source": [
        "\n",
        "print(df.loc[0]) # should display first record (row index)"
      ],
      "metadata": {
        "colab": {
          "base_uri": "https://localhost:8080/"
        },
        "id": "xwOCS5fiHrUC",
        "outputId": "47fefb03-5971-482d-b494-27b4b03b1c03"
      },
      "execution_count": 41,
      "outputs": [
        {
          "output_type": "stream",
          "name": "stdout",
          "text": [
            "Car       Toyoty\n",
            "Model       Aygo\n",
            "Volume      1000\n",
            "Weight       790\n",
            "CO2           99\n",
            "Name: 0, dtype: object\n"
          ]
        }
      ]
    },
    {
      "cell_type": "code",
      "source": [
        "df.loc[[0,1]] #or df[0:1]"
      ],
      "metadata": {
        "colab": {
          "base_uri": "https://localhost:8080/",
          "height": 112
        },
        "id": "QSPSy-24HCVm",
        "outputId": "2495d33a-a642-46c1-f186-2ddfcb6f1622"
      },
      "execution_count": 46,
      "outputs": [
        {
          "output_type": "execute_result",
          "data": {
            "text/plain": [
              "          Car       Model  Volume  Weight  CO2\n",
              "0      Toyoty        Aygo    1000     790   99\n",
              "1  Mitsubishi  Space Star    1200    1160   95"
            ],
            "text/html": [
              "\n",
              "  <div id=\"df-2c0a92d6-9e57-4c7c-b377-bf0301a84fd1\" class=\"colab-df-container\">\n",
              "    <div>\n",
              "<style scoped>\n",
              "    .dataframe tbody tr th:only-of-type {\n",
              "        vertical-align: middle;\n",
              "    }\n",
              "\n",
              "    .dataframe tbody tr th {\n",
              "        vertical-align: top;\n",
              "    }\n",
              "\n",
              "    .dataframe thead th {\n",
              "        text-align: right;\n",
              "    }\n",
              "</style>\n",
              "<table border=\"1\" class=\"dataframe\">\n",
              "  <thead>\n",
              "    <tr style=\"text-align: right;\">\n",
              "      <th></th>\n",
              "      <th>Car</th>\n",
              "      <th>Model</th>\n",
              "      <th>Volume</th>\n",
              "      <th>Weight</th>\n",
              "      <th>CO2</th>\n",
              "    </tr>\n",
              "  </thead>\n",
              "  <tbody>\n",
              "    <tr>\n",
              "      <th>0</th>\n",
              "      <td>Toyoty</td>\n",
              "      <td>Aygo</td>\n",
              "      <td>1000</td>\n",
              "      <td>790</td>\n",
              "      <td>99</td>\n",
              "    </tr>\n",
              "    <tr>\n",
              "      <th>1</th>\n",
              "      <td>Mitsubishi</td>\n",
              "      <td>Space Star</td>\n",
              "      <td>1200</td>\n",
              "      <td>1160</td>\n",
              "      <td>95</td>\n",
              "    </tr>\n",
              "  </tbody>\n",
              "</table>\n",
              "</div>\n",
              "    <div class=\"colab-df-buttons\">\n",
              "\n",
              "  <div class=\"colab-df-container\">\n",
              "    <button class=\"colab-df-convert\" onclick=\"convertToInteractive('df-2c0a92d6-9e57-4c7c-b377-bf0301a84fd1')\"\n",
              "            title=\"Convert this dataframe to an interactive table.\"\n",
              "            style=\"display:none;\">\n",
              "\n",
              "  <svg xmlns=\"http://www.w3.org/2000/svg\" height=\"24px\" viewBox=\"0 -960 960 960\">\n",
              "    <path d=\"M120-120v-720h720v720H120Zm60-500h600v-160H180v160Zm220 220h160v-160H400v160Zm0 220h160v-160H400v160ZM180-400h160v-160H180v160Zm440 0h160v-160H620v160ZM180-180h160v-160H180v160Zm440 0h160v-160H620v160Z\"/>\n",
              "  </svg>\n",
              "    </button>\n",
              "\n",
              "  <style>\n",
              "    .colab-df-container {\n",
              "      display:flex;\n",
              "      gap: 12px;\n",
              "    }\n",
              "\n",
              "    .colab-df-convert {\n",
              "      background-color: #E8F0FE;\n",
              "      border: none;\n",
              "      border-radius: 50%;\n",
              "      cursor: pointer;\n",
              "      display: none;\n",
              "      fill: #1967D2;\n",
              "      height: 32px;\n",
              "      padding: 0 0 0 0;\n",
              "      width: 32px;\n",
              "    }\n",
              "\n",
              "    .colab-df-convert:hover {\n",
              "      background-color: #E2EBFA;\n",
              "      box-shadow: 0px 1px 2px rgba(60, 64, 67, 0.3), 0px 1px 3px 1px rgba(60, 64, 67, 0.15);\n",
              "      fill: #174EA6;\n",
              "    }\n",
              "\n",
              "    .colab-df-buttons div {\n",
              "      margin-bottom: 4px;\n",
              "    }\n",
              "\n",
              "    [theme=dark] .colab-df-convert {\n",
              "      background-color: #3B4455;\n",
              "      fill: #D2E3FC;\n",
              "    }\n",
              "\n",
              "    [theme=dark] .colab-df-convert:hover {\n",
              "      background-color: #434B5C;\n",
              "      box-shadow: 0px 1px 3px 1px rgba(0, 0, 0, 0.15);\n",
              "      filter: drop-shadow(0px 1px 2px rgba(0, 0, 0, 0.3));\n",
              "      fill: #FFFFFF;\n",
              "    }\n",
              "  </style>\n",
              "\n",
              "    <script>\n",
              "      const buttonEl =\n",
              "        document.querySelector('#df-2c0a92d6-9e57-4c7c-b377-bf0301a84fd1 button.colab-df-convert');\n",
              "      buttonEl.style.display =\n",
              "        google.colab.kernel.accessAllowed ? 'block' : 'none';\n",
              "\n",
              "      async function convertToInteractive(key) {\n",
              "        const element = document.querySelector('#df-2c0a92d6-9e57-4c7c-b377-bf0301a84fd1');\n",
              "        const dataTable =\n",
              "          await google.colab.kernel.invokeFunction('convertToInteractive',\n",
              "                                                    [key], {});\n",
              "        if (!dataTable) return;\n",
              "\n",
              "        const docLinkHtml = 'Like what you see? Visit the ' +\n",
              "          '<a target=\"_blank\" href=https://colab.research.google.com/notebooks/data_table.ipynb>data table notebook</a>'\n",
              "          + ' to learn more about interactive tables.';\n",
              "        element.innerHTML = '';\n",
              "        dataTable['output_type'] = 'display_data';\n",
              "        await google.colab.output.renderOutput(dataTable, element);\n",
              "        const docLink = document.createElement('div');\n",
              "        docLink.innerHTML = docLinkHtml;\n",
              "        element.appendChild(docLink);\n",
              "      }\n",
              "    </script>\n",
              "  </div>\n",
              "\n",
              "\n",
              "    <div id=\"df-f781340e-99c9-4366-a642-8897da6461bd\">\n",
              "      <button class=\"colab-df-quickchart\" onclick=\"quickchart('df-f781340e-99c9-4366-a642-8897da6461bd')\"\n",
              "                title=\"Suggest charts\"\n",
              "                style=\"display:none;\">\n",
              "\n",
              "<svg xmlns=\"http://www.w3.org/2000/svg\" height=\"24px\"viewBox=\"0 0 24 24\"\n",
              "     width=\"24px\">\n",
              "    <g>\n",
              "        <path d=\"M19 3H5c-1.1 0-2 .9-2 2v14c0 1.1.9 2 2 2h14c1.1 0 2-.9 2-2V5c0-1.1-.9-2-2-2zM9 17H7v-7h2v7zm4 0h-2V7h2v10zm4 0h-2v-4h2v4z\"/>\n",
              "    </g>\n",
              "</svg>\n",
              "      </button>\n",
              "\n",
              "<style>\n",
              "  .colab-df-quickchart {\n",
              "      --bg-color: #E8F0FE;\n",
              "      --fill-color: #1967D2;\n",
              "      --hover-bg-color: #E2EBFA;\n",
              "      --hover-fill-color: #174EA6;\n",
              "      --disabled-fill-color: #AAA;\n",
              "      --disabled-bg-color: #DDD;\n",
              "  }\n",
              "\n",
              "  [theme=dark] .colab-df-quickchart {\n",
              "      --bg-color: #3B4455;\n",
              "      --fill-color: #D2E3FC;\n",
              "      --hover-bg-color: #434B5C;\n",
              "      --hover-fill-color: #FFFFFF;\n",
              "      --disabled-bg-color: #3B4455;\n",
              "      --disabled-fill-color: #666;\n",
              "  }\n",
              "\n",
              "  .colab-df-quickchart {\n",
              "    background-color: var(--bg-color);\n",
              "    border: none;\n",
              "    border-radius: 50%;\n",
              "    cursor: pointer;\n",
              "    display: none;\n",
              "    fill: var(--fill-color);\n",
              "    height: 32px;\n",
              "    padding: 0;\n",
              "    width: 32px;\n",
              "  }\n",
              "\n",
              "  .colab-df-quickchart:hover {\n",
              "    background-color: var(--hover-bg-color);\n",
              "    box-shadow: 0 1px 2px rgba(60, 64, 67, 0.3), 0 1px 3px 1px rgba(60, 64, 67, 0.15);\n",
              "    fill: var(--button-hover-fill-color);\n",
              "  }\n",
              "\n",
              "  .colab-df-quickchart-complete:disabled,\n",
              "  .colab-df-quickchart-complete:disabled:hover {\n",
              "    background-color: var(--disabled-bg-color);\n",
              "    fill: var(--disabled-fill-color);\n",
              "    box-shadow: none;\n",
              "  }\n",
              "\n",
              "  .colab-df-spinner {\n",
              "    border: 2px solid var(--fill-color);\n",
              "    border-color: transparent;\n",
              "    border-bottom-color: var(--fill-color);\n",
              "    animation:\n",
              "      spin 1s steps(1) infinite;\n",
              "  }\n",
              "\n",
              "  @keyframes spin {\n",
              "    0% {\n",
              "      border-color: transparent;\n",
              "      border-bottom-color: var(--fill-color);\n",
              "      border-left-color: var(--fill-color);\n",
              "    }\n",
              "    20% {\n",
              "      border-color: transparent;\n",
              "      border-left-color: var(--fill-color);\n",
              "      border-top-color: var(--fill-color);\n",
              "    }\n",
              "    30% {\n",
              "      border-color: transparent;\n",
              "      border-left-color: var(--fill-color);\n",
              "      border-top-color: var(--fill-color);\n",
              "      border-right-color: var(--fill-color);\n",
              "    }\n",
              "    40% {\n",
              "      border-color: transparent;\n",
              "      border-right-color: var(--fill-color);\n",
              "      border-top-color: var(--fill-color);\n",
              "    }\n",
              "    60% {\n",
              "      border-color: transparent;\n",
              "      border-right-color: var(--fill-color);\n",
              "    }\n",
              "    80% {\n",
              "      border-color: transparent;\n",
              "      border-right-color: var(--fill-color);\n",
              "      border-bottom-color: var(--fill-color);\n",
              "    }\n",
              "    90% {\n",
              "      border-color: transparent;\n",
              "      border-bottom-color: var(--fill-color);\n",
              "    }\n",
              "  }\n",
              "</style>\n",
              "\n",
              "      <script>\n",
              "        async function quickchart(key) {\n",
              "          const quickchartButtonEl =\n",
              "            document.querySelector('#' + key + ' button');\n",
              "          quickchartButtonEl.disabled = true;  // To prevent multiple clicks.\n",
              "          quickchartButtonEl.classList.add('colab-df-spinner');\n",
              "          try {\n",
              "            const charts = await google.colab.kernel.invokeFunction(\n",
              "                'suggestCharts', [key], {});\n",
              "          } catch (error) {\n",
              "            console.error('Error during call to suggestCharts:', error);\n",
              "          }\n",
              "          quickchartButtonEl.classList.remove('colab-df-spinner');\n",
              "          quickchartButtonEl.classList.add('colab-df-quickchart-complete');\n",
              "        }\n",
              "        (() => {\n",
              "          let quickchartButtonEl =\n",
              "            document.querySelector('#df-f781340e-99c9-4366-a642-8897da6461bd button');\n",
              "          quickchartButtonEl.style.display =\n",
              "            google.colab.kernel.accessAllowed ? 'block' : 'none';\n",
              "        })();\n",
              "      </script>\n",
              "    </div>\n",
              "\n",
              "    </div>\n",
              "  </div>\n"
            ],
            "application/vnd.google.colaboratory.intrinsic+json": {
              "type": "dataframe",
              "summary": "{\n  \"name\": \"df\",\n  \"rows\": 2,\n  \"fields\": [\n    {\n      \"column\": \"Car\",\n      \"properties\": {\n        \"dtype\": \"string\",\n        \"num_unique_values\": 2,\n        \"samples\": [\n          \"Mitsubishi\",\n          \"Toyoty\"\n        ],\n        \"semantic_type\": \"\",\n        \"description\": \"\"\n      }\n    },\n    {\n      \"column\": \"Model\",\n      \"properties\": {\n        \"dtype\": \"string\",\n        \"num_unique_values\": 2,\n        \"samples\": [\n          \"Space Star\",\n          \"Aygo\"\n        ],\n        \"semantic_type\": \"\",\n        \"description\": \"\"\n      }\n    },\n    {\n      \"column\": \"Volume\",\n      \"properties\": {\n        \"dtype\": \"number\",\n        \"std\": 141,\n        \"min\": 1000,\n        \"max\": 1200,\n        \"num_unique_values\": 2,\n        \"samples\": [\n          1200,\n          1000\n        ],\n        \"semantic_type\": \"\",\n        \"description\": \"\"\n      }\n    },\n    {\n      \"column\": \"Weight\",\n      \"properties\": {\n        \"dtype\": \"number\",\n        \"std\": 261,\n        \"min\": 790,\n        \"max\": 1160,\n        \"num_unique_values\": 2,\n        \"samples\": [\n          1160,\n          790\n        ],\n        \"semantic_type\": \"\",\n        \"description\": \"\"\n      }\n    },\n    {\n      \"column\": \"CO2\",\n      \"properties\": {\n        \"dtype\": \"number\",\n        \"std\": 2,\n        \"min\": 95,\n        \"max\": 99,\n        \"num_unique_values\": 2,\n        \"samples\": [\n          95,\n          99\n        ],\n        \"semantic_type\": \"\",\n        \"description\": \"\"\n      }\n    }\n  ]\n}"
            }
          },
          "metadata": {},
          "execution_count": 46
        }
      ]
    },
    {
      "cell_type": "code",
      "source": [
        "print(df.to_string())"
      ],
      "metadata": {
        "colab": {
          "base_uri": "https://localhost:8080/"
        },
        "id": "E-kfSZkUKwG6",
        "outputId": "e6109a7d-4b1b-4150-f1d4-c8e6c1537951"
      },
      "execution_count": 48,
      "outputs": [
        {
          "output_type": "stream",
          "name": "stdout",
          "text": [
            "           Car       Model  Volume  Weight  CO2\n",
            "0       Toyoty        Aygo    1000     790   99\n",
            "1   Mitsubishi  Space Star    1200    1160   95\n",
            "2        Skoda      Citigo    1000     929   95\n",
            "3         Fiat         500     900     865   90\n",
            "4         Mini      Cooper    1500    1140  105\n",
            "5           VW         Up!    1000     929  105\n",
            "6        Skoda       Fabia    1400    1109   90\n",
            "7     Mercedes     A-Class    1500    1365   92\n",
            "8         Ford      Fiesta    1500    1112   98\n",
            "9         Audi          A1    1600    1150   99\n",
            "10     Hyundai         I20    1100     980   99\n",
            "11      Suzuki       Swift    1300     990  101\n",
            "12        Ford      Fiesta    1000    1112   99\n",
            "13       Honda       Civic    1600    1252   94\n",
            "14      Hundai         I30    1600    1326   97\n",
            "15        Opel       Astra    1600    1330   97\n",
            "16         BMW           1    1600    1365   99\n",
            "17       Mazda           3    2200    1280  104\n",
            "18       Skoda       Rapid    1600    1119  104\n",
            "19        Ford       Focus    2000    1328  105\n",
            "20        Ford      Mondeo    1600    1584   94\n",
            "21        Opel    Insignia    2000    1428   99\n",
            "22    Mercedes     C-Class    2100    1365   99\n",
            "23       Skoda     Octavia    1600    1415   99\n",
            "24       Volvo         S60    2000    1415   99\n",
            "25    Mercedes         CLA    1500    1465  102\n",
            "26        Audi          A4    2000    1490  104\n",
            "27        Audi          A6    2000    1725  114\n",
            "28       Volvo         V70    1600    1523  109\n",
            "29         BMW           5    2000    1705  114\n",
            "30    Mercedes     E-Class    2100    1605  115\n",
            "31       Volvo        XC70    2000    1746  117\n",
            "32        Ford       B-Max    1600    1235  104\n",
            "33         BMW         216    1600    1390  108\n",
            "34        Opel      Zafira    1600    1405  109\n",
            "35    Mercedes         SLK    2500    1395  120\n"
          ]
        }
      ]
    },
    {
      "cell_type": "code",
      "source": [
        "## display last 5 records\n",
        "print(df.tail())"
      ],
      "metadata": {
        "colab": {
          "base_uri": "https://localhost:8080/"
        },
        "id": "T3huYNNmLfqX",
        "outputId": "a70427b7-da68-4fa9-932a-1922cdba22ba"
      },
      "execution_count": 49,
      "outputs": [
        {
          "output_type": "stream",
          "name": "stdout",
          "text": [
            "         Car   Model  Volume  Weight  CO2\n",
            "31     Volvo    XC70    2000    1746  117\n",
            "32      Ford   B-Max    1600    1235  104\n",
            "33       BMW     216    1600    1390  108\n",
            "34      Opel  Zafira    1600    1405  109\n",
            "35  Mercedes     SLK    2500    1395  120\n"
          ]
        }
      ]
    },
    {
      "cell_type": "code",
      "source": [
        "print(df.info())"
      ],
      "metadata": {
        "colab": {
          "base_uri": "https://localhost:8080/"
        },
        "id": "DLEy-G5QOy_Y",
        "outputId": "f6f08c2e-057d-43e9-fa5d-370c94313d9c"
      },
      "execution_count": 50,
      "outputs": [
        {
          "output_type": "stream",
          "name": "stdout",
          "text": [
            "<class 'pandas.core.frame.DataFrame'>\n",
            "RangeIndex: 36 entries, 0 to 35\n",
            "Data columns (total 5 columns):\n",
            " #   Column  Non-Null Count  Dtype \n",
            "---  ------  --------------  ----- \n",
            " 0   Car     36 non-null     object\n",
            " 1   Model   36 non-null     object\n",
            " 2   Volume  36 non-null     int64 \n",
            " 3   Weight  36 non-null     int64 \n",
            " 4   CO2     36 non-null     int64 \n",
            "dtypes: int64(3), object(2)\n",
            "memory usage: 1.5+ KB\n",
            "None\n"
          ]
        }
      ]
    },
    {
      "cell_type": "code",
      "source": [
        "new_df = df.dropna() # returns new dataframe will not change original (use inplace=True to modify)\n",
        "print(new_df)"
      ],
      "metadata": {
        "colab": {
          "base_uri": "https://localhost:8080/"
        },
        "id": "coo7YedLPUm-",
        "outputId": "d7c21147-dff5-4dcc-ca9b-49550ee3c0fb"
      },
      "execution_count": 52,
      "outputs": [
        {
          "output_type": "stream",
          "name": "stdout",
          "text": [
            "           Car       Model  Volume  Weight  CO2\n",
            "0       Toyoty        Aygo    1000     790   99\n",
            "1   Mitsubishi  Space Star    1200    1160   95\n",
            "2        Skoda      Citigo    1000     929   95\n",
            "3         Fiat         500     900     865   90\n",
            "4         Mini      Cooper    1500    1140  105\n",
            "5           VW         Up!    1000     929  105\n",
            "6        Skoda       Fabia    1400    1109   90\n",
            "7     Mercedes     A-Class    1500    1365   92\n",
            "8         Ford      Fiesta    1500    1112   98\n",
            "9         Audi          A1    1600    1150   99\n",
            "10     Hyundai         I20    1100     980   99\n",
            "11      Suzuki       Swift    1300     990  101\n",
            "12        Ford      Fiesta    1000    1112   99\n",
            "13       Honda       Civic    1600    1252   94\n",
            "14      Hundai         I30    1600    1326   97\n",
            "15        Opel       Astra    1600    1330   97\n",
            "16         BMW           1    1600    1365   99\n",
            "17       Mazda           3    2200    1280  104\n",
            "18       Skoda       Rapid    1600    1119  104\n",
            "19        Ford       Focus    2000    1328  105\n",
            "20        Ford      Mondeo    1600    1584   94\n",
            "21        Opel    Insignia    2000    1428   99\n",
            "22    Mercedes     C-Class    2100    1365   99\n",
            "23       Skoda     Octavia    1600    1415   99\n",
            "24       Volvo         S60    2000    1415   99\n",
            "25    Mercedes         CLA    1500    1465  102\n",
            "26        Audi          A4    2000    1490  104\n",
            "27        Audi          A6    2000    1725  114\n",
            "28       Volvo         V70    1600    1523  109\n",
            "29         BMW           5    2000    1705  114\n",
            "30    Mercedes     E-Class    2100    1605  115\n",
            "31       Volvo        XC70    2000    1746  117\n",
            "32        Ford       B-Max    1600    1235  104\n",
            "33         BMW         216    1600    1390  108\n",
            "34        Opel      Zafira    1600    1405  109\n",
            "35    Mercedes         SLK    2500    1395  120\n"
          ]
        }
      ]
    },
    {
      "cell_type": "code",
      "source": [
        "df.fillna(130, inplace = True) # replaces null values with 130 ## fill missing values"
      ],
      "metadata": {
        "id": "XHxgshLWPiDJ"
      },
      "execution_count": null,
      "outputs": []
    },
    {
      "cell_type": "code",
      "source": [
        "df.fillna({\"Car\":\"NA\",\"Model1\":1})## replace only specific column\n",
        "\n",
        "x = df[\"Volume\"].mean()\n",
        "y = df[\"Volume\"].median()\n",
        "z = df[\"Volume\"].mode()\n",
        "\n",
        "print(x,y)\n",
        "\n",
        "print(z)\n",
        "\n",
        "df.fillna({\"Volumne\":x},inplace = True)"
      ],
      "metadata": {
        "colab": {
          "base_uri": "https://localhost:8080/"
        },
        "id": "B3m8ZbggPmBy",
        "outputId": "877e6dbd-546c-4749-9006-79c68f40c2e1"
      },
      "execution_count": 67,
      "outputs": [
        {
          "output_type": "stream",
          "name": "stdout",
          "text": [
            "1611.111111111111 1600.0\n",
            "0    1600\n",
            "Name: Volume, dtype: int64\n"
          ]
        }
      ]
    },
    {
      "cell_type": "code",
      "source": [
        "## suppose if we have different dates,  how to convert to date time.\n",
        "\n",
        "data = {\n",
        "    \"date\": [\n",
        "        \"2025-09-08\",        # ISO format YYYY-MM-DD\n",
        "        \"09/08/2025\",        # US format MM/DD/YYYY\n",
        "        \"08-09-2025\",        # European format DD-MM-YYYY\n",
        "        \"September 8, 2025\", # Full month name format\n",
        "        \"08-Sep-25\",         # Abbreviated month with 2-digit year\n",
        "        \"2025/09/08 14:30\",  # Date and time with 24h clock\n",
        "        \"09-08-25 2:30 PM\",  # Date and time with 12h clock\n",
        "        \"Mon, 08 Sep 2025\"   # Day, DD Mon YYYY\n",
        "    ],\n",
        "    \"value\": [10, 20, 30, 40, 50, 60, 70, 80]\n",
        "}\n",
        "\n",
        "df = pd.DataFrame(data)\n",
        "print(df)"
      ],
      "metadata": {
        "colab": {
          "base_uri": "https://localhost:8080/"
        },
        "id": "O9NZ-xFSSyGf",
        "outputId": "bf963255-dd79-4a21-c3c1-c0d47169802d"
      },
      "execution_count": 71,
      "outputs": [
        {
          "output_type": "stream",
          "name": "stdout",
          "text": [
            "                date  value\n",
            "0         2025-09-08     10\n",
            "1         09/08/2025     20\n",
            "2         08-09-2025     30\n",
            "3  September 8, 2025     40\n",
            "4          08-Sep-25     50\n",
            "5   2025/09/08 14:30     60\n",
            "6   09-08-25 2:30 PM     70\n",
            "7   Mon, 08 Sep 2025     80\n"
          ]
        }
      ]
    },
    {
      "cell_type": "code",
      "source": [
        "df['Date'] = pd.to_datetime(df['date'],format = 'mixed')\n",
        "print(df.to_string())"
      ],
      "metadata": {
        "colab": {
          "base_uri": "https://localhost:8080/"
        },
        "id": "spWMHTXcSt8l",
        "outputId": "33b01e81-1e16-4052-cd17-b3f9b9a6bb6a"
      },
      "execution_count": 75,
      "outputs": [
        {
          "output_type": "stream",
          "name": "stdout",
          "text": [
            "                date  value                Date\n",
            "0         2025-09-08     10 2025-09-08 00:00:00\n",
            "1         09/08/2025     20 2025-09-08 00:00:00\n",
            "2         08-09-2025     30 2025-08-09 00:00:00\n",
            "3  September 8, 2025     40 2025-09-08 00:00:00\n",
            "4          08-Sep-25     50 2025-09-08 00:00:00\n",
            "5   2025/09/08 14:30     60 2025-09-08 14:30:00\n",
            "6   09-08-25 2:30 PM     70 2025-09-08 14:30:00\n",
            "7   Mon, 08 Sep 2025     80 2025-09-08 00:00:00\n"
          ]
        }
      ]
    },
    {
      "cell_type": "code",
      "source": [
        "data = {\n",
        "    \"id\": [1, 2, 3, 4, 5],\n",
        "    \"name\": [\"Alice\", \"Bob\", None, \"David\", \"Eva\"],   # Missing name for id=3\n",
        "    \"age\": [25, None, 35, 40, 28],                    # Missing age for id=2\n",
        "    \"city\": [\"New York\", \"Los Angeles\", \"Chicago\", None, \"Phoenix\"]  # Missing city for id=4\n",
        "}\n",
        "\n",
        "df = pd.DataFrame(data)\n",
        "\n",
        "df.dropna(subset = ['age'],inplace = True)\n",
        "print(df)"
      ],
      "metadata": {
        "colab": {
          "base_uri": "https://localhost:8080/"
        },
        "id": "_3hDh07WZFbb",
        "outputId": "e59c70bf-bc0e-4924-b4f4-80807132acc7"
      },
      "execution_count": 80,
      "outputs": [
        {
          "output_type": "stream",
          "name": "stdout",
          "text": [
            "   id   name   age      city\n",
            "0   1  Alice  25.0  New York\n",
            "2   3   None  35.0   Chicago\n",
            "3   4  David  40.0      None\n",
            "4   5    Eva  28.0   Phoenix\n"
          ]
        }
      ]
    },
    {
      "cell_type": "code",
      "source": [
        "df.loc[3,\"age\"] = 1000\n",
        "print(df)"
      ],
      "metadata": {
        "colab": {
          "base_uri": "https://localhost:8080/"
        },
        "id": "0zlGfk3EZqnW",
        "outputId": "bd5e224e-a7f1-4b07-9aff-595164126934"
      },
      "execution_count": 84,
      "outputs": [
        {
          "output_type": "stream",
          "name": "stdout",
          "text": [
            "   id   name     age      city\n",
            "0   1  Alice    25.0  New York\n",
            "2   3   None    35.0   Chicago\n",
            "3   4  David  1000.0      None\n",
            "4   5    Eva    28.0   Phoenix\n"
          ]
        }
      ]
    },
    {
      "cell_type": "code",
      "source": [
        "for x in df.index:\n",
        "  if df.loc[x,\"age\"] >100:\n",
        "    df.loc[x,\"age\"] = 100\n",
        "\n",
        "\n",
        "\n",
        "print(df)"
      ],
      "metadata": {
        "colab": {
          "base_uri": "https://localhost:8080/"
        },
        "id": "Wz1mAaBfZ6__",
        "outputId": "9cc6bf1c-c0ab-4809-e23c-cb96332dc07a"
      },
      "execution_count": 85,
      "outputs": [
        {
          "output_type": "stream",
          "name": "stdout",
          "text": [
            "   id   name    age      city\n",
            "0   1  Alice   25.0  New York\n",
            "2   3   None   35.0   Chicago\n",
            "3   4  David  100.0      None\n",
            "4   5    Eva   28.0   Phoenix\n",
            "   id   name    age      city\n",
            "0   1  Alice   25.0  New York\n",
            "2   3   None   35.0   Chicago\n",
            "3   4  David  100.0      None\n",
            "4   5    Eva   28.0   Phoenix\n"
          ]
        }
      ]
    },
    {
      "cell_type": "code",
      "source": [
        "data = {\n",
        "    \"id\": [1, 2, 3, 4, 5, 1, 2, 3, 4, 5],\n",
        "    \"name\": [\"Alice\", \"Bob\", \"Charlie\", \"David\", \"Eva\",\n",
        "             \"Alice\", \"Bob\", \"Charlie\", \"David\", \"Eva\"],\n",
        "    \"age\": [25, 30, 35, 40, 28,\n",
        "            25, 30, 35, 40, 28],\n",
        "    \"city\": [\"New York\", \"Los Angeles\", \"Chicago\", \"Houston\", \"Phoenix\",\n",
        "             \"New York\", \"Los Angeles\", \"Chicago\", \"Houston\", \"Phoenix\"]\n",
        "}\n",
        "\n",
        "df = pd.DataFrame(data)\n",
        "\n",
        "print(df)"
      ],
      "metadata": {
        "colab": {
          "base_uri": "https://localhost:8080/"
        },
        "id": "3hlcjxNnaE8c",
        "outputId": "151356e7-475a-40a5-e9f8-41abe7ef2a91"
      },
      "execution_count": 87,
      "outputs": [
        {
          "output_type": "stream",
          "name": "stdout",
          "text": [
            "   id     name  age         city\n",
            "0   1    Alice   25     New York\n",
            "1   2      Bob   30  Los Angeles\n",
            "2   3  Charlie   35      Chicago\n",
            "3   4    David   40      Houston\n",
            "4   5      Eva   28      Phoenix\n",
            "5   1    Alice   25     New York\n",
            "6   2      Bob   30  Los Angeles\n",
            "7   3  Charlie   35      Chicago\n",
            "8   4    David   40      Houston\n",
            "9   5      Eva   28      Phoenix\n"
          ]
        }
      ]
    },
    {
      "cell_type": "code",
      "source": [
        "\n",
        "df.loc[df.duplicated()]\n",
        "df.drop_duplicates(inplace=True)\n",
        "\n",
        "print(df)"
      ],
      "metadata": {
        "colab": {
          "base_uri": "https://localhost:8080/"
        },
        "id": "ugB83UgwZsAo",
        "outputId": "882a4a33-8c1f-43eb-c22a-4a925d11c966"
      },
      "execution_count": 95,
      "outputs": [
        {
          "output_type": "stream",
          "name": "stdout",
          "text": [
            "   id     name  age         city\n",
            "0   1    Alice   25     New York\n",
            "1   2      Bob   30  Los Angeles\n",
            "2   3  Charlie   35      Chicago\n",
            "3   4    David   40      Houston\n",
            "4   5      Eva   28      Phoenix\n"
          ]
        }
      ]
    },
    {
      "cell_type": "code",
      "source": [
        "# cheatsheet\n",
        "#https://pandas.pydata.org/Pandas_Cheat_Sheet.pdf\n",
        "\n"
      ],
      "metadata": {
        "id": "LN96_KjebXN0"
      },
      "execution_count": 99,
      "outputs": []
    },
    {
      "cell_type": "markdown",
      "source": [],
      "metadata": {
        "id": "E7R1UzRDYhqX"
      }
    }
  ]
}